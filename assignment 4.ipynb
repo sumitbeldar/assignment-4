{
 "cells": [
  {
   "cell_type": "code",
   "execution_count": 1,
   "id": "309af68c",
   "metadata": {},
   "outputs": [
    {
     "data": {
      "text/plain": [
       "'\"Abstraction is one of the fundamental principles of Object-Oriented Programming (OOPs) that allows hiding the implementation details of a class from its users and providing a simplified interface for interacting with it. \\nIt means that users of the class do not need to know how the class works internally, but only need to know how to use it.\\n\\nFor example, consider a class called BankAccount that has various methods such as deposit(), withdraw(), and check_balance(). The implementation details of these methods, such as how they interact with the bank\\'s backend systems or how the interest rate is calculated, are hidden from the user. \\nThe user only needs to know the interface of the class, which includes the method names and their parameters.'"
      ]
     },
     "execution_count": 1,
     "metadata": {},
     "output_type": "execute_result"
    }
   ],
   "source": [
    "#Q1\n",
    "\"\"\"\"Abstraction is one of the fundamental principles of Object-Oriented Programming (OOPs) that allows hiding the implementation details of a class from its users and providing a simplified interface for interacting with it. \n",
    "It means that users of the class do not need to know how the class works internally, but only need to know how to use it.\n",
    "\n",
    "For example, consider a class called BankAccount that has various methods such as deposit(), withdraw(), and check_balance(). The implementation details of these methods, such as how they interact with the bank's backend systems or how the interest rate is calculated, are hidden from the user. \n",
    "The user only needs to know the interface of the class, which includes the method names and their parameters.\"\"\""
   ]
  },
  {
   "cell_type": "code",
   "execution_count": 2,
   "id": "d378eaf0",
   "metadata": {},
   "outputs": [
    {
     "data": {
      "text/plain": [
       "'\"Abstraction is the process of hiding the implementation details of a class from its users and providing a simplified interface for interacting with it. \\nIt focuses on exposing only the essential features of a class and hiding unnecessary details. Abstraction can be achieved through abstract classes, interfaces, and encapsulation.\\n\\nEncapsulation is the process of hiding the internal details of a class from its users and protecting the data from external interference. \\nIt involves bundling the data and the methods that operate on that data into a single unit called a class. Encapsulation helps in improving the security and maintainability of the code.'"
      ]
     },
     "execution_count": 2,
     "metadata": {},
     "output_type": "execute_result"
    }
   ],
   "source": [
    "#Q2\n",
    "\"\"\"\"Abstraction is the process of hiding the implementation details of a class from its users and providing a simplified interface for interacting with it. \n",
    "It focuses on exposing only the essential features of a class and hiding unnecessary details. Abstraction can be achieved through abstract classes, interfaces, and encapsulation.\n",
    "\n",
    "Encapsulation is the process of hiding the internal details of a class from its users and protecting the data from external interference. \n",
    "It involves bundling the data and the methods that operate on that data into a single unit called a class. Encapsulation helps in improving the security and maintainability of the code.\"\"\""
   ]
  },
  {
   "cell_type": "code",
   "execution_count": 3,
   "id": "5d3ceeec",
   "metadata": {},
   "outputs": [
    {
     "data": {
      "text/plain": [
       "'\"The abc module in Python stands for Abstract Base Classes. It provides a way to define abstract classes in Python. An abstract class is a class that cannot be instantiated and is meant to be subclassed. It provides a set of methods that the subclass should implement to create a fully functional class.\\n\\nThe abc module is used to enforce certain rules on the classes that inherit from the abstract base classes. These rules help to ensure that the subclasses have the required methods and properties that are defined in the abstract base class.'"
      ]
     },
     "execution_count": 3,
     "metadata": {},
     "output_type": "execute_result"
    }
   ],
   "source": [
    "#Q3\n",
    "\"\"\"\"The abc module in Python stands for Abstract Base Classes. It provides a way to define abstract classes in Python. An abstract class is a class that cannot be instantiated and is meant to be subclassed. It provides a set of methods that the subclass should implement to create a fully functional class.\n",
    "\n",
    "The abc module is used to enforce certain rules on the classes that inherit from the abstract base classes. These rules help to ensure that the subclasses have the required methods and properties that are defined in the abstract base class.\"\"\""
   ]
  },
  {
   "cell_type": "code",
   "execution_count": 4,
   "id": "59718bcd",
   "metadata": {},
   "outputs": [
    {
     "data": {
      "text/plain": [
       "'Abstract Base Classes: Abstract base classes are classes that cannot be instantiated and are meant to be subclassed. \\nThey provide a set of methods that the subclass should implement to create a fully functional class. By defining abstract base classes, \\nwe can provide a high-level interface to the user and hide the implementation details.'"
      ]
     },
     "execution_count": 4,
     "metadata": {},
     "output_type": "execute_result"
    }
   ],
   "source": [
    "#Q4\n",
    "\"\"\"Encapsulation: Encapsulation is the process of hiding the implementation details of a class and exposing only the essential features to the outside world. \n",
    "    It is achieved by using access modifiers like private, public, and protected to control access to class members. \n",
    "    By keeping the implementation details hidden, we can achieve data abstraction.\"\"\"\n",
    "\"\"\"Abstract Base Classes: Abstract base classes are classes that cannot be instantiated and are meant to be subclassed. \n",
    "They provide a set of methods that the subclass should implement to create a fully functional class. By defining abstract base classes, \n",
    "we can provide a high-level interface to the user and hide the implementation details.\"\"\""
   ]
  },
  {
   "cell_type": "code",
   "execution_count": 6,
   "id": "8f8baab7",
   "metadata": {},
   "outputs": [
    {
     "data": {
      "text/plain": [
       "'\"No, we cannot create an instance of an abstract class in Python. \\nAn abstract class is a class that cannot be instantiated and is meant to be subclassed. \\nIt provides a set of methods that the subclass should implement to create a fully functional class. \\nThe main purpose of an abstract class is to provide a template for other classes to follow.'"
      ]
     },
     "execution_count": 6,
     "metadata": {},
     "output_type": "execute_result"
    }
   ],
   "source": [
    "#Q5\n",
    "\"\"\"\"No, we cannot create an instance of an abstract class in Python. \n",
    "An abstract class is a class that cannot be instantiated and is meant to be subclassed. \n",
    "It provides a set of methods that the subclass should implement to create a fully functional class. \n",
    "The main purpose of an abstract class is to provide a template for other classes to follow.\"\"\""
   ]
  },
  {
   "cell_type": "code",
   "execution_count": null,
   "id": "ad45a9aa",
   "metadata": {},
   "outputs": [],
   "source": []
  }
 ],
 "metadata": {
  "kernelspec": {
   "display_name": "Python 3 (ipykernel)",
   "language": "python",
   "name": "python3"
  },
  "language_info": {
   "codemirror_mode": {
    "name": "ipython",
    "version": 3
   },
   "file_extension": ".py",
   "mimetype": "text/x-python",
   "name": "python",
   "nbconvert_exporter": "python",
   "pygments_lexer": "ipython3",
   "version": "3.9.13"
  }
 },
 "nbformat": 4,
 "nbformat_minor": 5
}
